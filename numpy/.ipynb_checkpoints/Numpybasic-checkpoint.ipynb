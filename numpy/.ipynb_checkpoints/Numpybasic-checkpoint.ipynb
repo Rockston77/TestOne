{
 "cells": [
  {
   "cell_type": "markdown",
   "id": "7df9e64d-fa6c-4b00-8252-5b3e3139cfae",
   "metadata": {},
   "source": [
    "Numpy is a python library.\n",
    "Numpy is used for working with arrays.\n",
    "Numpy is short for 'Numerical python'.\n",
    "\n",
    "## Today we will cover the basics\n",
    "Starting with a basic introduction and ends up with creating and plotting random data sets, and working with numpy functions:\n",
    " - Intorduction,\n",
    " - Getting started,\n",
    " - creating arrays\n",
    " - array indexing,\n",
    " - array slicing,\n",
    " - data types,\n",
    " - copy vs view,\n",
    " - array shape,\n",
    " - array reshape,\n",
    " - array iterating,\n",
    " - array join,\n",
    " - array split,\n",
    " - array search,\n",
    " - array sort,\n",
    " - array filter,"
   ]
  },
  {
   "cell_type": "markdown",
   "id": "2a7122be-c92f-450c-9a3c-fcf62facf9f7",
   "metadata": {},
   "source": [
    "# Why is NumPy faster than lists?\n",
    "NumPy arrays are stored at one continuous place in memory unline lists, so processes can access and manipulate them very efficiently.\n",
    "This behavior is called locality of reference in computer science.\n"
   ]
  }
 ],
 "metadata": {
  "kernelspec": {
   "display_name": "Python 3 (ipykernel)",
   "language": "python",
   "name": "python3"
  },
  "language_info": {
   "codemirror_mode": {
    "name": "ipython",
    "version": 3
   },
   "file_extension": ".py",
   "mimetype": "text/x-python",
   "name": "python",
   "nbconvert_exporter": "python",
   "pygments_lexer": "ipython3",
   "version": "3.12.8"
  }
 },
 "nbformat": 4,
 "nbformat_minor": 5
}
